{
 "cells": [
  {
   "cell_type": "code",
   "execution_count": 2,
   "metadata": {},
   "outputs": [],
   "source": [
    "import numpy as np"
   ]
  },
  {
   "attachments": {},
   "cell_type": "markdown",
   "metadata": {},
   "source": [
    "^np is an alias.  always do it this way\n",
    "\n",
    "diff between list and array:\n",
    "arrays have to be all the same data type (aka homogenous)\n",
    "lists are a collection of pointers to different objects in memory\n",
    "arrays point to a single location in memory\n",
    "this results in speed increase\n",
    "\n",
    "helps us eliminate for loops via broadcasting and vectorization"
   ]
  },
  {
   "cell_type": "code",
   "execution_count": null,
   "metadata": {},
   "outputs": [],
   "source": [
    "list1 = [\"sanjay\",12, [5, 6, 7], {}, \"sammi\"]\n",
    "np.array([1, 2, 3, 4, 5, 6])"
   ]
  },
  {
   "attachments": {},
   "cell_type": "markdown",
   "metadata": {},
   "source": [
    ".array() is a method of the numpy.ndarray class, ndarray object"
   ]
  },
  {
   "cell_type": "code",
   "execution_count": 4,
   "metadata": {},
   "outputs": [
    {
     "name": "stdout",
     "output_type": "stream",
     "text": [
      "[1 2 3 4 5 6]\n",
      "<class 'numpy.ndarray'>\n"
     ]
    }
   ],
   "source": [
    "array1 = np.array([1, 2, 3, 4, 5, 6])  #passed a python list into an array. can also pass tuple.\n",
    "print(array1)\n",
    "print(type(array1))"
   ]
  },
  {
   "attachments": {},
   "cell_type": "markdown",
   "metadata": {},
   "source": [
    "Dimensions in Arrays"
   ]
  },
  {
   "cell_type": "code",
   "execution_count": 5,
   "metadata": {},
   "outputs": [
    {
     "name": "stdout",
     "output_type": "stream",
     "text": [
      "[[1 2 3]\n",
      " [4 5 6]]\n",
      "[[[1 2 3]\n",
      "  [4 5 6]]\n",
      "\n",
      " [[1 2 3]\n",
      "  [4 5 6]]]\n"
     ]
    }
   ],
   "source": [
    "#0-D arrays, these are also called Scalars\n",
    "array2 = np.array(42)\n",
    "\n",
    "#1-D arrays.  They have 0-D arrays as the elements.  These are the most basic and common arrays\n",
    "array3 = np.array([1, 2, 3, 4, 5, 6])\n",
    "\n",
    "#2-D array.  These arrays contain 1-D arrays as the elements. They signify the matrix\n",
    "array4 = np.array([[1, 2, 3], [4, 5, 6]])\n",
    "print(array4)\n",
    "\n",
    "#3-D array. They contain 2-D arrays as the elements. \n",
    "array5 = np.array([[[1, 2, 3], [4, 5, 6]],[[1, 2, 3], [4, 5, 6]]])\n",
    "print(array5)"
   ]
  },
  {
   "cell_type": "code",
   "execution_count": 7,
   "metadata": {},
   "outputs": [
    {
     "name": "stdout",
     "output_type": "stream",
     "text": [
      "0\n",
      "1\n",
      "2\n",
      "3\n"
     ]
    }
   ],
   "source": [
    "print(array2.ndim)  #.ndim is a class attribute (not a method)\n",
    "print(array3.ndim)  # tells us how many dimensions our array has\n",
    "print(array4.ndim)\n",
    "print(array5.ndim)"
   ]
  },
  {
   "cell_type": "code",
   "execution_count": 13,
   "metadata": {},
   "outputs": [
    {
     "name": "stdout",
     "output_type": "stream",
     "text": [
      "[1 2 3]\n",
      "[4 5 6]\n",
      "[5 7 9]\n",
      "2\n",
      "1\n"
     ]
    }
   ],
   "source": [
    "print(array4[0])\n",
    "print(array4[1])\n",
    "print(array4[0] + array4[1])\n",
    "print(array4.ndim)\n",
    "new_array = array4[0] + array4[1]\n",
    "print(new_array.ndim)"
   ]
  },
  {
   "attachments": {},
   "cell_type": "markdown",
   "metadata": {},
   "source": [
    "since both elements above are arrays of 3 elements you can add them.  if one array was 4 elements and the other was 3 then you couldn't add them."
   ]
  },
  {
   "cell_type": "code",
   "execution_count": 16,
   "metadata": {},
   "outputs": [
    {
     "name": "stdout",
     "output_type": "stream",
     "text": [
      "[[1 2 3]\n",
      " [4 5 6]\n",
      " [7 8 9]]\n"
     ]
    }
   ],
   "source": [
    "#Slicing is similar to python lists\n",
    "array6 = np.array([[1,2,3],[4,5,6],[7,8,9],[10,11,12]])\n",
    "print(array6[0:3])"
   ]
  },
  {
   "attachments": {},
   "cell_type": "markdown",
   "metadata": {},
   "source": [
    "Arthimetic Operations\n",
    "\n",
    "We can perform element-wise operations with scalar values\n",
    "\n",
    "In the below example numpy performs \"stretching\" to change the values of the array.  numpy doesnt make a new array of the new values\n",
    "[1, 1, 1, 1, 1, 1, 1]"
   ]
  },
  {
   "cell_type": "code",
   "execution_count": 18,
   "metadata": {},
   "outputs": [
    {
     "name": "stdout",
     "output_type": "stream",
     "text": [
      "[1 2 3 4 5 6]\n",
      "[2 3 4 5 6 7]\n"
     ]
    }
   ],
   "source": [
    "total = array3 + 1\n",
    "print(array3)\n",
    "print(total)"
   ]
  },
  {
   "cell_type": "code",
   "execution_count": 20,
   "metadata": {},
   "outputs": [
    {
     "name": "stdout",
     "output_type": "stream",
     "text": [
      "[ 2  4  6  8 10 12]\n",
      "[0.5 1.  1.5 2.  2.5 3. ]\n"
     ]
    }
   ],
   "source": [
    "product = array3 * 2\n",
    "division = array3 / 2\n",
    "print(product)\n",
    "print(division)"
   ]
  },
  {
   "attachments": {},
   "cell_type": "markdown",
   "metadata": {},
   "source": [
    "Aggregate Funcations\n",
    "-min\n",
    "-max\n",
    "-mean\n",
    "-sum"
   ]
  },
  {
   "cell_type": "code",
   "execution_count": 26,
   "metadata": {},
   "outputs": [
    {
     "name": "stdout",
     "output_type": "stream",
     "text": [
      "[1 2 3 4 5 6]\n",
      "21 1 6 3.5\n",
      "21\n",
      "1\n",
      "6\n",
      "3.5\n"
     ]
    }
   ],
   "source": [
    "print(array3)\n",
    "total = np.sum(array3)\n",
    "lowest = np.min(array3)\n",
    "highest = np.max(array3)\n",
    "average = np.mean(array3)\n",
    "print(total, lowest, highest, average)\n",
    "\n",
    "print(array3.sum())\n",
    "print(array3.min())\n",
    "print(array3.max())\n",
    "print(array3.mean())\n"
   ]
  },
  {
   "cell_type": "code",
   "execution_count": 29,
   "metadata": {},
   "outputs": [
    {
     "name": "stdout",
     "output_type": "stream",
     "text": [
      "[[ 1  2  3]\n",
      " [ 4  5  6]\n",
      " [ 7  8  9]\n",
      " [10 11 12]]\n",
      "[[ 2  4  6]\n",
      " [ 8 10 12]\n",
      " [14 16 18]\n",
      " [20 22 24]]\n"
     ]
    }
   ],
   "source": [
    "#Broadcasting with a 2D array\n",
    "print(array6)\n",
    "multidimension_broadcast = array6 * 2\n",
    "print(multidimension_broadcast)"
   ]
  },
  {
   "attachments": {},
   "cell_type": "markdown",
   "metadata": {},
   "source": [
    "Shaping with Numpy Arrays\n",
    "-attribute called shape\n",
    "\n",
    "returns a tuple which means they can't be changed.  order and size matters\n",
    "the numbers returned form the shape of the matrix (not to be confused with the dimensions of the arrays)\n",
    "the shape has to always be a rectange or a square.  so that means each element needs to have an equal number of other elements\n",
    "4 4 4 4\n",
    "4 4 4 4\n",
    "1 2 5 6\n",
    "\n",
    "not valid:\n",
    "3 2 5\n",
    "4 4 7\n",
    "1 3 5 3"
   ]
  },
  {
   "cell_type": "code",
   "execution_count": 30,
   "metadata": {},
   "outputs": [
    {
     "name": "stdout",
     "output_type": "stream",
     "text": [
      "(4, 3)\n",
      "(2, 2, 3)\n"
     ]
    }
   ],
   "source": [
    "print(array6.shape) \n",
    "print(array5.shape) "
   ]
  },
  {
   "cell_type": "code",
   "execution_count": 37,
   "metadata": {},
   "outputs": [
    {
     "name": "stdout",
     "output_type": "stream",
     "text": [
      "[1 2 3 4 5 6]\n",
      "(6,)\n",
      "[[1 2]\n",
      " [3 4]\n",
      " [5 6]]\n",
      "[[1 2]\n",
      " [3 4]\n",
      " [5 6]]\n"
     ]
    }
   ],
   "source": [
    "#Reshaping Arrays\n",
    "#when reshaping you need to have a number of total elements so that the new shape is divisible 6 = 3,2\n",
    "print(array3)\n",
    "print(array3.shape) #(6,) because its a 1-D array\n",
    "print(np.reshape(array3, (3,2)))   \n",
    "print(array3.reshape(3,2)) #same as above. this is a ndarray method.  above is a numpy function"
   ]
  },
  {
   "attachments": {},
   "cell_type": "markdown",
   "metadata": {},
   "source": [
    "Transposing Arrays \n",
    "\n",
    "default argument = reverses the order of the axises"
   ]
  },
  {
   "cell_type": "code",
   "execution_count": 41,
   "metadata": {},
   "outputs": [
    {
     "name": "stdout",
     "output_type": "stream",
     "text": [
      "[[ 1  2  3]\n",
      " [ 4  5  6]\n",
      " [ 7  8  9]\n",
      " [10 11 12]]\n",
      "[[ 1  4  7 10]\n",
      " [ 2  5  8 11]\n",
      " [ 3  6  9 12]]\n"
     ]
    }
   ],
   "source": [
    "print(array6)\n",
    "print(array6.transpose())"
   ]
  },
  {
   "attachments": {},
   "cell_type": "markdown",
   "metadata": {},
   "source": [
    "Boolean Operations"
   ]
  },
  {
   "cell_type": "code",
   "execution_count": 47,
   "metadata": {},
   "outputs": [
    {
     "name": "stdout",
     "output_type": "stream",
     "text": [
      "[False  True  True False  True]\n",
      "[False  True False False]\n",
      "[ True  True  True False]\n",
      "False\n"
     ]
    }
   ],
   "source": [
    "a = np.array([1, 2, 3, 4, 5])\n",
    "b = np.array([2, 2, 3, 3, 5])\n",
    "c = a == b\n",
    "print(c)\n",
    "\n",
    "d = np.array([True, True, False, False])\n",
    "e = np.array([False, True, True, False])\n",
    "f = np.logical_and(d, e)\n",
    "print(f)\n",
    "g = np.logical_or(d, e)\n",
    "print(g)\n",
    "h = np.array_equal(d, e) #only true if both arrays are exactly the same\n",
    "print(h)"
   ]
  },
  {
   "attachments": {},
   "cell_type": "markdown",
   "metadata": {},
   "source": [
    "Sorting"
   ]
  },
  {
   "cell_type": "code",
   "execution_count": 56,
   "metadata": {},
   "outputs": [
    {
     "name": "stdout",
     "output_type": "stream",
     "text": [
      "[ 3 10 14  4  6  3 99 87  8]\n",
      "[ 3  3  4  6  8 10 14 87 99]\n",
      "[99 87 14 10  8  6  4  3  3]\n",
      "[ 3  3  4  6  8 10 14 87 99]\n"
     ]
    }
   ],
   "source": [
    "i = np.array([3, 10, 14, 4, 6, 3, 99, 87, 8])\n",
    "print(i)\n",
    "j = np.sort(i)\n",
    "print(j)  #sorted in ascending order\n",
    "k = np.sort(i)[::-1]  #sorted in descending order\n",
    "print(k)\n",
    "i.sort() #sort method will change the original method\n",
    "print(i)\n"
   ]
  }
 ],
 "metadata": {
  "kernelspec": {
   "display_name": "Python 3",
   "language": "python",
   "name": "python3"
  },
  "language_info": {
   "codemirror_mode": {
    "name": "ipython",
    "version": 3
   },
   "file_extension": ".py",
   "mimetype": "text/x-python",
   "name": "python",
   "nbconvert_exporter": "python",
   "pygments_lexer": "ipython3",
   "version": "3.10.7"
  },
  "orig_nbformat": 4
 },
 "nbformat": 4,
 "nbformat_minor": 2
}
