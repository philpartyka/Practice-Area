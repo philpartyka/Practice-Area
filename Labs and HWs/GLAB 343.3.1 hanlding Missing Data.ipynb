{
 "cells": [
  {
   "cell_type": "code",
   "execution_count": 2,
   "metadata": {},
   "outputs": [],
   "source": [
    "import pandas as pd\n",
    "import numpy as np"
   ]
  },
  {
   "cell_type": "code",
   "execution_count": 5,
   "metadata": {},
   "outputs": [
    {
     "name": "stdout",
     "output_type": "stream",
     "text": [
      "        Name   Age  Weight     Salary\n",
      "0      James  36.0    75.0  5428000.0\n",
      "1    Villers  38.0    74.0  3428000.0\n",
      "2      VKole  31.0    70.0  8428000.0\n",
      "3      Smith  34.0    80.0  4428000.0\n",
      "4      Gayle  40.0   100.0  4528000.0\n",
      "5       Adam  40.0     NaN  4528000.0\n",
      "6     Rooter  33.0    72.0  7028000.0\n",
      "7   Peterson  42.0    85.0  2528000.0\n",
      "8      lynda  42.0    85.0        NaN\n",
      "9        NaN  42.0    85.0        NaN\n",
      "10     Jenny   NaN   100.0    25632.0\n",
      "11      Kenn   NaN   110.0    25632.0\n",
      "12       Aly   NaN    90.0    25582.0\n",
      "13      John  41.0    85.0  1528000.0\n",
      "---- after dropping or cleaning the missing data ---\n",
      "        Name   Age  Weight     Salary\n",
      "0      James  36.0    75.0  5428000.0\n",
      "1    Villers  38.0    74.0  3428000.0\n",
      "2      VKole  31.0    70.0  8428000.0\n",
      "3      Smith  34.0    80.0  4428000.0\n",
      "4      Gayle  40.0   100.0  4528000.0\n",
      "5       Adam  40.0     NaN  4528000.0\n",
      "6     Rooter  33.0    72.0  7028000.0\n",
      "7   Peterson  42.0    85.0  2528000.0\n",
      "10     Jenny   NaN   100.0    25632.0\n",
      "11      Kenn   NaN   110.0    25632.0\n",
      "12       Aly   NaN    90.0    25582.0\n",
      "13      John  41.0    85.0  1528000.0\n"
     ]
    }
   ],
   "source": [
    "# Initializing the nested list with Data set\n",
    "employee_list = [['James', 36, 75, 5428000],\n",
    "               ['Villers', 38, 74, 3428000],\n",
    "               ['VKole', 31, 70, 8428000],\n",
    "               ['Smith', 34, 80, 4428000],\n",
    "               ['Gayle', 40, 100, 4528000],\n",
    "               ['Adam', 40, np.nan, 4528000],\n",
    "               ['Rooter', 33, 72, 7028000],\n",
    "               ['Peterson', 42, 85, 2528000],\n",
    "               ['lynda', 42, 85, np.nan],\n",
    "               [np.nan, 42, 85, np.nan],\n",
    "               ['Jenny', np.nan, 100, 25632],\n",
    "               ['Kenn', np.nan, 110, 25632],\n",
    "                ['Aly', np.nan, 90, 25582],\n",
    "               ['John', 41, 85, 1528000]]\n",
    " \n",
    "# creating a pandas dataframe\n",
    "df = pd.DataFrame(employee_list, columns=['Name', 'Age', 'Weight', 'Salary'])\n",
    "\n",
    "print(df)\n",
    "\n",
    "print('---- after dropping or cleaning the missing data ---')\n",
    "#df = df.dropna()\n",
    "df = df.dropna(subset='Salary')\n",
    "#df = df.dropna(axis=1)\n",
    "print(df)\n"
   ]
  },
  {
   "cell_type": "code",
   "execution_count": 7,
   "metadata": {},
   "outputs": [
    {
     "name": "stdout",
     "output_type": "stream",
     "text": [
      "---------------Before Cleaning NaN values--------------\n",
      "        Name   Age  Weight     Salary\n",
      "0      James  36.0    75.0  5428000.0\n",
      "1    Villers  38.0    74.0  3428000.0\n",
      "2       Kole  31.0    70.0  8428000.0\n",
      "3      Smith  34.0    80.0  4428000.0\n",
      "4      Gayle  40.0   100.0  4528000.0\n",
      "5       Adam  40.0     NaN  4528000.0\n",
      "6     Rooter  33.0    72.0  7028000.0\n",
      "7   Peterson  42.0    85.0  2528000.0\n",
      "8      lynda  42.0    85.0        NaN\n",
      "9        NaN  42.0    85.0        NaN\n",
      "10     Jenny   NaN   100.0    25632.0\n",
      "11      Kenn   NaN   110.0    25632.0\n",
      "12       Aly   NaN    90.0    25582.0\n",
      "13      John  41.0    85.0  1528000.0\n",
      "---------------after filling all columns------------\n",
      "        Name   Age Weight     Salary\n",
      "0      James  36.0   75.0  5428000.0\n",
      "1    Villers  38.0   74.0  3428000.0\n",
      "2       Kole  31.0   70.0  8428000.0\n",
      "3      Smith  34.0   80.0  4428000.0\n",
      "4      Gayle  40.0  100.0  4528000.0\n",
      "5       Adam  40.0   None  4528000.0\n",
      "6     Rooter  33.0   72.0  7028000.0\n",
      "7   Peterson  42.0   85.0  2528000.0\n",
      "8      lynda  42.0   85.0       None\n",
      "9       None  42.0   85.0       None\n",
      "10     Jenny  None  100.0    25632.0\n",
      "11      Kenn  None  110.0    25632.0\n",
      "12       Aly  None   90.0    25582.0\n",
      "13      John  41.0   85.0  1528000.0\n"
     ]
    }
   ],
   "source": [
    "# fillna() on all columns\n",
    "# Initializing the nested list with Data set\n",
    "employee_list = [['James', 36, 75, 5428000],\n",
    "               ['Villers', 38, 74, 3428000],\n",
    "               ['Kole', 31, 70, 8428000],\n",
    "               ['Smith', 34, 80, 4428000],\n",
    "               ['Gayle', 40, 100, 4528000],\n",
    "               ['Adam', 40, np.nan, 4528000],\n",
    "               ['Rooter', 33, 72, 7028000],\n",
    "               ['Peterson', 42, 85, 2528000],\n",
    "               ['lynda', 42, 85, np.nan],\n",
    "               [np.nan, 42, 85, np.nan],\n",
    "               ['Jenny', np.nan, 100, 25632],\n",
    "               ['Kenn', np.nan, 110, 25632],\n",
    "                ['Aly', np.nan, 90, 25582],\n",
    "               ['John', 41, 85, 1528000],]\n",
    " \n",
    "# creating a pandas dataframe\n",
    "df = pd.DataFrame(employee_list, columns=['Name', 'Age', 'Weight', 'Salary'])\n",
    "print(\"---------------Before Cleaning NaN values--------------\")\n",
    "print(df)\n",
    "print('---------------after filling all columns------------')\n",
    "print(df.fillna(value='None'))\n"
   ]
  },
  {
   "cell_type": "code",
   "execution_count": 9,
   "metadata": {},
   "outputs": [
    {
     "name": "stdout",
     "output_type": "stream",
     "text": [
      "---------------Before Cleaning NaN values--------------\n",
      "        Name   Age  Weight     Salary\n",
      "0      James  36.0    75.0  5428000.0\n",
      "1    Villers  38.0    74.0  3428000.0\n",
      "2      VKole  31.0    70.0  8428000.0\n",
      "3      Smith  34.0    80.0  4428000.0\n",
      "4      Gayle  40.0   100.0  4528000.0\n",
      "5       Adam  40.0     NaN  4528000.0\n",
      "6     Rooter  33.0    72.0  7028000.0\n",
      "7   Peterson  42.0    85.0  2528000.0\n",
      "8      lynda  42.0    85.0        NaN\n",
      "9        NaN  42.0    85.0        NaN\n",
      "10     Jenny   NaN   100.0    25632.0\n",
      "11      Kenn   NaN   110.0    25632.0\n",
      "12       Aly   NaN    90.0    25582.0\n",
      "13      John  41.0    85.0  1528000.0\n",
      "-----after Cleaning NaN values from multiple columns--------------\n",
      "                    Name      Age   Weight     Salary\n",
      "0                  James     36.0     75.0  5428000.0\n",
      "1                Villers     38.0     74.0  3428000.0\n",
      "2                  VKole     31.0     70.0  8428000.0\n",
      "3                  Smith     34.0     80.0  4428000.0\n",
      "4                  Gayle     40.0    100.0  4528000.0\n",
      "5                   Adam     40.0  Pending  4528000.0\n",
      "6                 Rooter     33.0     72.0  7028000.0\n",
      "7               Peterson     42.0     85.0  2528000.0\n",
      "8                  lynda     42.0     85.0        0.0\n",
      "9   Verification pending     42.0     85.0        0.0\n",
      "10                 Jenny  Unknown    100.0    25632.0\n",
      "11                  Kenn  Unknown    110.0    25632.0\n",
      "12                   Aly  Unknown     90.0    25582.0\n",
      "13                  John     41.0     85.0  1528000.0\n"
     ]
    }
   ],
   "source": [
    "employee_list = [['James', 36, 75, 5428000],\n",
    "               ['Villers', 38, 74, 3428000],\n",
    "               ['VKole', 31, 70, 8428000],\n",
    "               ['Smith', 34, 80, 4428000],\n",
    "               ['Gayle', 40, 100, 4528000],\n",
    "               ['Adam', 40, np.nan, 4528000],\n",
    "               ['Rooter', 33, 72, 7028000],\n",
    "               ['Peterson', 42, 85, 2528000],\n",
    "               ['lynda', 42, 85, np.nan],\n",
    "               [np.nan, 42, 85, np.nan],\n",
    "               ['Jenny', np.nan, 100, 25632],\n",
    "               ['Kenn', np.nan, 110, 25632],\n",
    "                ['Aly', np.nan, 90, 25582],\n",
    "               ['John', 41, 85, 1528000],]\n",
    " \n",
    "# creating a pandas dataframe\n",
    "df = pd.DataFrame(employee_list, columns=['Name', 'Age', 'Weight', 'Salary'])\n",
    "print(\"---------------Before Cleaning NaN values--------------\")\n",
    "print(df)\n",
    "print(\"-----after Cleaning NaN values from multiple columns--------------\")\n",
    "\n",
    "df2 = df.fillna(value={'Weight':'Pending','Age':\"Unknown\", 'Salary': \"0.0\", 'Name': \"Verification pending\"})\n",
    "\n",
    "print(df2)\n"
   ]
  },
  {
   "cell_type": "code",
   "execution_count": 10,
   "metadata": {},
   "outputs": [
    {
     "name": "stdout",
     "output_type": "stream",
     "text": [
      "  Courses      Fee Duration  Discount\n",
      "0   Spark  20000.0      NaN    1000.0\n",
      "1     NaN  25000.0   40days       NaN\n",
      "2  Hadoop      NaN   35days    1500.0\n",
      "3  Python  22000.0      NaN       NaN\n",
      "4  pandas  24000.0   60days    2500.0\n",
      "5     NaN      NaN   50days    2100.0\n",
      "6    Java  22000.0   55days       NaN\n"
     ]
    }
   ],
   "source": [
    "technologies = {\n",
    "    'Courses':[\"Spark\",np.nan,\"Hadoop\",\"Python\",\"pandas\",np.nan,\"Java\"],\n",
    "    'Fee' :[20000,25000, np.nan,22000,24000,np.nan,22000],\n",
    "    'Duration':[np.nan,'40days','35days', np.nan,'60days','50days','55days'],\n",
    "    'Discount':[1000,np.nan,1500,np.nan,2500,2100,np.nan]\n",
    "              }\n",
    "df = pd.DataFrame(technologies)\n",
    "print(df)\n"
   ]
  },
  {
   "cell_type": "code",
   "execution_count": 14,
   "metadata": {},
   "outputs": [
    {
     "name": "stdout",
     "output_type": "stream",
     "text": [
      "    Courses      Fee Duration  Discount\n",
      "0  Temppark  20000.0      NaN    1000.0\n",
      "1       NaN  25000.0   40days       NaN\n",
      "2    Hadoop      NaN   35days    1500.0\n",
      "3    Python  22000.0      NaN       NaN\n",
      "4    pandas  24000.0   60days    2500.0\n",
      "5       NaN      NaN   50days    2100.0\n",
      "6      Java  22000.0   55days       NaN\n"
     ]
    }
   ],
   "source": [
    "df2 = df.replace(np.nan, '')\n",
    "#df2 = df.replace('^S', 'Temp', regex=True)\n",
    "print(df2)"
   ]
  },
  {
   "cell_type": "code",
   "execution_count": 20,
   "metadata": {},
   "outputs": [
    {
     "name": "stdout",
     "output_type": "stream",
     "text": [
      "  Courses      Fee Duration  Discount\n",
      "0   Spark  20000.0      NaN    1000.0\n",
      "1     NaN  25000.0   40days       NaN\n",
      "2  Hadoop      NaN   35days    1500.0\n",
      "3  Python  22000.0      NaN       NaN\n",
      "4  pandas  24000.0   60days    2500.0\n",
      "5     NaN      NaN   50days    2100.0\n",
      "6    Java  22000.0   55days       NaN\n",
      "   Courses      Fee\n",
      "0    Spark  20000.0\n",
      "1  PENDING  25000.0\n",
      "2   Hadoop  PENDING\n",
      "3   Python  22000.0\n",
      "4   pandas  24000.0\n",
      "5  PENDING  PENDING\n",
      "6     Java  22000.0\n"
     ]
    }
   ],
   "source": [
    "import pandas as pd\n",
    "import numpy as np\n",
    "technologies = {\n",
    "    'Courses':[\"Spark\",np.nan,\"Hadoop\",\"Python\",\"pandas\",np.nan,\"Java\"],\n",
    "    'Fee' :[20000,25000, np.nan,22000,24000,np.nan,22000],\n",
    "    'Duration':[np.nan,'40days','35days', np.nan,'60days','50days','55days'],\n",
    "    'Discount':[1000,np.nan,1500,np.nan,2500,2100,np.nan]\n",
    "              }\n",
    "df = pd.DataFrame(technologies)\n",
    "print(df)\n",
    "\n",
    "df2 = df[['Courses','Fee' ]] = df[['Courses','Fee' ]].fillna('PENDING')\n",
    "print(df2)\n",
    "\n"
   ]
  },
  {
   "cell_type": "code",
   "execution_count": 21,
   "metadata": {},
   "outputs": [
    {
     "data": {
      "text/html": [
       "<div>\n",
       "<style scoped>\n",
       "    .dataframe tbody tr th:only-of-type {\n",
       "        vertical-align: middle;\n",
       "    }\n",
       "\n",
       "    .dataframe tbody tr th {\n",
       "        vertical-align: top;\n",
       "    }\n",
       "\n",
       "    .dataframe thead th {\n",
       "        text-align: right;\n",
       "    }\n",
       "</style>\n",
       "<table border=\"1\" class=\"dataframe\">\n",
       "  <thead>\n",
       "    <tr style=\"text-align: right;\">\n",
       "      <th></th>\n",
       "      <th>Courses</th>\n",
       "      <th>Fee</th>\n",
       "    </tr>\n",
       "  </thead>\n",
       "  <tbody>\n",
       "    <tr>\n",
       "      <th>0</th>\n",
       "      <td>Spark</td>\n",
       "      <td>20000.0</td>\n",
       "    </tr>\n",
       "    <tr>\n",
       "      <th>1</th>\n",
       "      <td>PENDING</td>\n",
       "      <td>25000.0</td>\n",
       "    </tr>\n",
       "    <tr>\n",
       "      <th>2</th>\n",
       "      <td>Hadoop</td>\n",
       "      <td>PENDING</td>\n",
       "    </tr>\n",
       "    <tr>\n",
       "      <th>3</th>\n",
       "      <td>Python</td>\n",
       "      <td>22000.0</td>\n",
       "    </tr>\n",
       "    <tr>\n",
       "      <th>4</th>\n",
       "      <td>pandas</td>\n",
       "      <td>24000.0</td>\n",
       "    </tr>\n",
       "    <tr>\n",
       "      <th>5</th>\n",
       "      <td>PENDING</td>\n",
       "      <td>PENDING</td>\n",
       "    </tr>\n",
       "    <tr>\n",
       "      <th>6</th>\n",
       "      <td>Java</td>\n",
       "      <td>22000.0</td>\n",
       "    </tr>\n",
       "  </tbody>\n",
       "</table>\n",
       "</div>"
      ],
      "text/plain": [
       "   Courses      Fee\n",
       "0    Spark  20000.0\n",
       "1  PENDING  25000.0\n",
       "2   Hadoop  PENDING\n",
       "3   Python  22000.0\n",
       "4   pandas  24000.0\n",
       "5  PENDING  PENDING\n",
       "6     Java  22000.0"
      ]
     },
     "execution_count": 21,
     "metadata": {},
     "output_type": "execute_result"
    }
   ],
   "source": [
    "df.loc[:, ~df.isna().any().values]"
   ]
  },
  {
   "cell_type": "code",
   "execution_count": 23,
   "metadata": {},
   "outputs": [
    {
     "name": "stdout",
     "output_type": "stream",
     "text": [
      "None\n",
      "  Courses      Fee Duration Discount\n",
      "0   Spark  20000.0            1000.0\n",
      "1          25000.0   40days         \n",
      "2  Hadoop            35days   1500.0\n",
      "3  Python  22000.0                  \n",
      "4  pandas  24000.0   60days   2500.0\n",
      "5                    50days   2100.0\n",
      "6    Java  22000.0   55days         \n"
     ]
    }
   ],
   "source": [
    "#fillna() with inplace=True\n",
    "import pandas as pd\n",
    "import numpy as np\n",
    "technologies = {\n",
    "    'Courses':[\"Spark\",np.nan,\"Hadoop\",\"Python\",\"pandas\",np.nan,\"Java\"],\n",
    "    'Fee' :[20000,25000, np.nan,22000,24000,np.nan,22000],\n",
    "    'Duration':[np.nan,'40days','35days', np.nan,'60days','50days','55days'],\n",
    "    'Discount':[1000,np.nan,1500,np.nan,2500,2100,np.nan]\n",
    "              }\n",
    "df = pd.DataFrame(technologies)\n",
    "# Using pandas replace nan with null\n",
    "df2 = df.fillna('', inplace=True)\n",
    "print(df2)\n",
    "print(df)\n"
   ]
  }
 ],
 "metadata": {
  "kernelspec": {
   "display_name": "Python 3",
   "language": "python",
   "name": "python3"
  },
  "language_info": {
   "codemirror_mode": {
    "name": "ipython",
    "version": 3
   },
   "file_extension": ".py",
   "mimetype": "text/x-python",
   "name": "python",
   "nbconvert_exporter": "python",
   "pygments_lexer": "ipython3",
   "version": "3.10.7"
  },
  "orig_nbformat": 4
 },
 "nbformat": 4,
 "nbformat_minor": 2
}
