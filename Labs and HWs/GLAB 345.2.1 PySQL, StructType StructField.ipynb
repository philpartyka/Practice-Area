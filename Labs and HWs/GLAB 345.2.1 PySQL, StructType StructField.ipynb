{
 "cells": [
  {
   "cell_type": "code",
   "execution_count": 16,
   "metadata": {},
   "outputs": [
    {
     "name": "stdout",
     "output_type": "stream",
     "text": [
      "root\n",
      " |-- rollno: string (nullable = true)\n",
      " |-- name: string (nullable = true)\n",
      " |-- age: integer (nullable = true)\n",
      " |-- height: float (nullable = true)\n",
      " |-- weight: integer (nullable = true)\n",
      " |-- address: string (nullable = true)\n",
      "\n",
      "+------+---------+---+------+------+-------+\n",
      "|rollno|     name|age|height|weight|address|\n",
      "+------+---------+---+------+------+-------+\n",
      "|   001|     john| 23|  5.79|    67|     NY|\n",
      "|   002|    James| 18|  3.79|    34|     NY|\n",
      "|   003|     Eric| 17|  2.79|    17|     NJ|\n",
      "|   004|Shahparan| 19|  3.69|    28|     NJ|\n",
      "|   005|     Flex| 37|  5.59|    54| Dallas|\n",
      "+------+---------+---+------+------+-------+\n",
      "\n"
     ]
    }
   ],
   "source": [
    "import pyspark\n",
    "from pyspark.sql import SparkSession\n",
    "#and import struct types and data types\n",
    "from pyspark.sql.types import StructType,StructField,StringType,IntegerType,FloatType\n",
    "spark_app = SparkSession.builder.appName(\"sparkdemo\").getOrCreate()\n",
    "\n",
    "# ------create student data with 5 rows and 6 attributes------\n",
    "students =[['001','john',23,5.79,67,'NY'], ['002','James',18,3.79,34,'NY'], ['003','Eric',17,2.79,17,'NJ'],\n",
    "               ['004','Shahparan',19,3.69,28,'NJ'],['005','Flex',37,5.59,54,'Dallas']]\n",
    "\n",
    "#----------define the StructType and StructFields-------\n",
    "#for the below column names\n",
    "schema=StructType([\n",
    "    StructField(\"rollno\",StringType(),True),\n",
    "    StructField(\"name\",StringType(),True),\n",
    "    StructField(\"age\",IntegerType(),True),\n",
    "    StructField(\"height\", FloatType(), True),\n",
    "    StructField(\"weight\", IntegerType(), True),\n",
    "    StructField(\"address\", StringType(), True)  ])\n",
    " \n",
    "#-----create the dataframe and add schema to the dataframe---\n",
    "df = spark_app.createDataFrame(students, schema=schema)\n",
    "df.printSchema()\n",
    "df.show()"
   ]
  },
  {
   "cell_type": "code",
   "execution_count": 12,
   "metadata": {},
   "outputs": [
    {
     "data": {
      "text/plain": [
       "StructType([StructField('rollno', StringType(), True), StructField('name', StringType(), True), StructField('age', IntegerType(), True), StructField('height', FloatType(), True), StructField('weight', IntegerType(), True), StructField('address', StringType(), True)])"
      ]
     },
     "execution_count": 12,
     "metadata": {},
     "output_type": "execute_result"
    }
   ],
   "source": [
    "df.schema"
   ]
  },
  {
   "cell_type": "code",
   "execution_count": 11,
   "metadata": {},
   "outputs": [
    {
     "data": {
      "text/plain": [
       "[StructField('rollno', StringType(), True),\n",
       " StructField('name', StringType(), True),\n",
       " StructField('age', IntegerType(), True),\n",
       " StructField('height', FloatType(), True),\n",
       " StructField('weight', IntegerType(), True),\n",
       " StructField('address', StringType(), True)]"
      ]
     },
     "execution_count": 11,
     "metadata": {},
     "output_type": "execute_result"
    }
   ],
   "source": [
    "df.schema.fields"
   ]
  },
  {
   "cell_type": "code",
   "execution_count": 13,
   "metadata": {},
   "outputs": [
    {
     "name": "stdout",
     "output_type": "stream",
     "text": [
      "root\n",
      " |-- rollno: string (nullable = true)\n",
      " |-- name: string (nullable = true)\n",
      " |-- age: integer (nullable = true)\n",
      " |-- height: float (nullable = true)\n",
      " |-- weight: integer (nullable = true)\n",
      " |-- address: string (nullable = true)\n",
      "\n"
     ]
    }
   ],
   "source": [
    "df.printSchema()"
   ]
  }
 ],
 "metadata": {
  "kernelspec": {
   "display_name": "Python 3",
   "language": "python",
   "name": "python3"
  },
  "language_info": {
   "codemirror_mode": {
    "name": "ipython",
    "version": 3
   },
   "file_extension": ".py",
   "mimetype": "text/x-python",
   "name": "python",
   "nbconvert_exporter": "python",
   "pygments_lexer": "ipython3",
   "version": "3.10.7"
  },
  "orig_nbformat": 4
 },
 "nbformat": 4,
 "nbformat_minor": 2
}
