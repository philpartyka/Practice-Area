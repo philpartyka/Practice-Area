{
  "nbformat": 4,
  "nbformat_minor": 0,
  "metadata": {
    "colab": {
      "provenance": []
    },
    "kernelspec": {
      "name": "python3",
      "display_name": "Python 3"
    },
    "language_info": {
      "name": "python"
    }
  },
  "cells": [
    {
      "cell_type": "markdown",
      "source": [
        "#Accessing a Paginated API Endpoint to Explore Data- Part 2\n",
        "\n",
        "In this lab we will combine concepts that we have learned throughout the class so far. Some of those concepts are:\n",
        "\n",
        ">*   Importing Libraries\n",
        ">*   Looping through nested lists and Dictionaries\n",
        ">*   Make a request to an API Endpoint\n",
        ">*   Define functions based on a given set of conditions\n",
        ">*   Accessing and utilizing JSON data\n",
        ">*   Handling Exception Errors\n",
        ">*   Writing Pseudo-Code\n",
        "<br></br>\n",
        "\n",
        "To complete this lab we will be using data from a Star Wars API. The full documentation can be found here: https://swapi.dev/documentation#intro\n",
        "<br></br> \n",
        "We will be focusing on the \"Starship Resource\" in this lab.\n",
        "<br></br>\n",
        "**If you have not completed Cumulative Lab 1, please go back and complete this lab. This lab is similair, but with less informative instruction to help build your logic skills.**"
      ],
      "metadata": {
        "id": "A8ywYdA4gLIQ"
      }
    },
    {
      "cell_type": "markdown",
      "source": [
        "Import all of the required packages to complete this assignment. Include a package to print json in a tabular format."
      ],
      "metadata": {
        "id": "8h9R9GU9gRJb"
      }
    },
    {
      "cell_type": "code",
      "source": [
        "import requests\n",
        "import json\n",
        "\n",
        "from pprint import pp"
      ],
      "metadata": {
        "id": "ghO4hSnnhESx"
      },
      "execution_count": null,
      "outputs": []
    },
    {
      "cell_type": "markdown",
      "source": [
        "Make your request to the API Endpoint and use a **WHILE** if neccessary to access multiple pages. \n",
        "<br></br>\n",
        "Save all of the responses in one Python Object. If you would like, save only the neccessary keys into a new Python Object."
      ],
      "metadata": {
        "id": "gp20BZExhKUG"
      }
    },
    {
      "cell_type": "code",
      "source": [
        "url = 'https://swapi.dev/api/starships/?page=1'\n",
        "responses = []\n",
        "while url is not None:\n",
        "  response = requests.get(url)\n",
        "  responses.append(response.json())\n",
        "  url = response.json()['next']\n"
      ],
      "metadata": {
        "id": "cQLnzwjXhV2v"
      },
      "execution_count": null,
      "outputs": []
    },
    {
      "cell_type": "markdown",
      "source": [
        "Define and call a function that returns all of the models of starships."
      ],
      "metadata": {
        "id": "zqYawPTMhnZf"
      }
    },
    {
      "cell_type": "code",
      "source": [
        "results = []\n",
        "for response in responses:\n",
        "  results.extend(response['results'])\n",
        "\n",
        "def models()-> list[str]:\n",
        "  return [result['model'] for result in results]"
      ],
      "metadata": {
        "id": "xLYcUidFefPb"
      },
      "execution_count": null,
      "outputs": []
    },
    {
      "cell_type": "markdown",
      "source": [
        "Define and call a function that finds the ship that can carry the most cargo."
      ],
      "metadata": {
        "id": "9U5eFZuThvto"
      }
    },
    {
      "cell_type": "code",
      "source": [],
      "metadata": {
        "id": "gAO3jTkqu7pB"
      },
      "execution_count": null,
      "outputs": []
    },
    {
      "cell_type": "code",
      "source": [
        "# solution 1\n",
        "def ship_with_max_cargo()-> tuple[list[str], int]:\n",
        "  ship_name = [] # list of strings\n",
        "  max_cargo = 0\n",
        "  for result in results:\n",
        "    # check if max\n",
        "    if result['cargo_capacity'].isdigit():\n",
        "      if (int(result['cargo_capacity']) >= max_cargo):\n",
        "       \n",
        "        # update the variables\n",
        "        # ship name\n",
        "        if int(result['cargo_capacity']) == max_cargo:\n",
        "          ship_name.append(result['name'])\n",
        "        else:\n",
        "          ship_name = [result['name']]\n",
        "        \n",
        "        # max cargo\n",
        "        max_cargo = int(result['cargo_capacity'])\n",
        "\n",
        "\n",
        "  return (ship_name, max_cargo)"
      ],
      "metadata": {
        "id": "kcu3Dsn8jc7V"
      },
      "execution_count": null,
      "outputs": []
    },
    {
      "cell_type": "code",
      "source": [
        "ship_with_max_cargo()"
      ],
      "metadata": {
        "colab": {
          "base_uri": "https://localhost:8080/"
        },
        "id": "V47R5H0q1HKZ",
        "outputId": "29585ecf-6c77-4a29-abe6-b8ab02bba0f3"
      },
      "execution_count": null,
      "outputs": [
        {
          "output_type": "execute_result",
          "data": {
            "text/plain": [
              "(['Death Star'], 1000000000000)"
            ]
          },
          "metadata": {},
          "execution_count": 167
        }
      ]
    },
    {
      "cell_type": "code",
      "source": [
        "# solution 2\n",
        "def get_most_cargo(starships:list):\n",
        "  d_cargo = {}\n",
        "  for starship in starships:\n",
        "    if starship['cargo_capacity'].isdigit():\n",
        "      d_cargo[starship['name']] = int(starship['cargo_capacity'])\n",
        "\n",
        "  d_cargo['Star Destroyer'] = 1000000000000\n",
        "  \n",
        "  max_cargo = max(d_cargo.values())\n",
        "  return(max_cargo, [k for k,v in d_cargo.items() if v == max_cargo])\n"
      ],
      "metadata": {
        "id": "-QLDkxzipy9V"
      },
      "execution_count": null,
      "outputs": []
    },
    {
      "cell_type": "markdown",
      "source": [
        "---"
      ],
      "metadata": {
        "id": "zcWwsuzetsTB"
      }
    },
    {
      "cell_type": "markdown",
      "source": [
        "Define a function that returns the number of crew and passengers of a given Starship. \n",
        "\n",
        "Make at least two seperate function calls to test the functionality and any edge cases you can think of."
      ],
      "metadata": {
        "id": "_QehoXI3h0kC"
      }
    },
    {
      "cell_type": "code",
      "source": [
        "# solution 1\n",
        "def get_crew_and_passengers(name: str, starships: list[dict]) -> tuple[str, str]:\n",
        "  for starship in starships:\n",
        "    if starship['name'] == name:\n",
        "      \n",
        "      return(starship['crew'], \n",
        "             starship['passengers']) \n",
        "    "
      ],
      "metadata": {
        "id": "7yYhDQ9UrPEx"
      },
      "execution_count": null,
      "outputs": []
    },
    {
      "cell_type": "code",
      "source": [
        "print(get_crew_and_passengers('CR90 corvette', results))\n",
        "print(get_crew_and_passengers('Star Destroyer', results))"
      ],
      "metadata": {
        "colab": {
          "base_uri": "https://localhost:8080/"
        },
        "id": "KiO3KhRKsKIp",
        "outputId": "849319e2-96f0-4b19-cceb-bd29779bdf26"
      },
      "execution_count": null,
      "outputs": [
        {
          "output_type": "stream",
          "name": "stdout",
          "text": [
            "('30-165', '600')\n",
            "('47,060', 'n/a')\n"
          ]
        }
      ]
    },
    {
      "cell_type": "markdown",
      "source": [
        "---"
      ],
      "metadata": {
        "id": "pM3H-Ca2tp75"
      }
    },
    {
      "cell_type": "code",
      "source": [
        "# solution 2\n",
        "def int_two(input_string: str):\n",
        "  only_digits = ''.join([d for d in input_string if d.isdigit()])\n",
        "  try:\n",
        "    return int(only_digits)\n",
        "  except:\n",
        "    return only_digits\n",
        "  \n",
        "def get_crew_and_passengers_two(name: str, starships: list[dict]):\n",
        "  for starship in starships:\n",
        "    if starship['name'] == name:\n",
        "       return(int_two(starship['crew']), \n",
        "             int_two(starship['passengers']))"
      ],
      "metadata": {
        "id": "O9XRB4kBsbZS"
      },
      "execution_count": null,
      "outputs": []
    },
    {
      "cell_type": "code",
      "source": [
        "print(get_crew_and_passengers_two('CR90 corvette', results))\n",
        "print(get_crew_and_passengers_two('Star Destroyer', results))"
      ],
      "metadata": {
        "colab": {
          "base_uri": "https://localhost:8080/"
        },
        "id": "kPevFsWgtB0Z",
        "outputId": "1ec84410-d83a-4a79-9f93-93d512703578"
      },
      "execution_count": null,
      "outputs": [
        {
          "output_type": "stream",
          "name": "stdout",
          "text": [
            "(30165, 600)\n",
            "(47060, '')\n"
          ]
        }
      ]
    },
    {
      "cell_type": "markdown",
      "source": [
        "---"
      ],
      "metadata": {
        "id": "_dCSkCauwMoh"
      }
    },
    {
      "cell_type": "markdown",
      "source": [
        "Define and call a function that finds the most expensive starship."
      ],
      "metadata": {
        "id": "3R9Ajo2CiYED"
      }
    },
    {
      "cell_type": "code",
      "source": [
        "def name_descriptor(starship_char: str) -> dict:\n",
        "  ''' returns a dictionary where\n",
        "  key = starship name\n",
        "  value = starship's charactersitics\n",
        "  '''\n",
        "  return{starship['name']: starship[starship_char] for starship in results if starship[starship_char] not in ('unknown', 'n/a')}"
      ],
      "metadata": {
        "id": "lbxcmggQweFs"
      },
      "execution_count": null,
      "outputs": []
    },
    {
      "cell_type": "code",
      "source": [
        "def find_max(input_dict: dict):\n",
        "  '''\n",
        "  constraint: values need to be int\n",
        "  '''\n",
        "  # converting values to int\n",
        "  input_dict = {k: int_two(v) for k, v in input_dict.items()} \n",
        "  \n",
        "  max_value = max(input_dict.values())\n",
        "  return(max_value, [k for k,v in input_dict.items() if v == max_value])\n",
        "\n",
        "\n",
        "def find_min(input_dict: dict):\n",
        "  '''\n",
        "  constraint: values need to be int\n",
        "  '''\n",
        "  # converting values to int\n",
        "  input_dict = {k: int_two(v) for k, v in input_dict.items()} \n",
        "\n",
        "  min_value = min(input_dict.values())\n",
        "  return(min_value, [k for k,v in input_dict.items() if v == min_value])"
      ],
      "metadata": {
        "id": "rc47sjamyZZj"
      },
      "execution_count": null,
      "outputs": []
    },
    {
      "cell_type": "markdown",
      "source": [
        "---"
      ],
      "metadata": {
        "id": "jg3HIggV6afi"
      }
    },
    {
      "cell_type": "code",
      "source": [
        "def most_expensive_starship():\n",
        "  starship_costs = name_descriptor('cost_in_credits')\n",
        "  \n",
        "  return(find_max(starship_costs))"
      ],
      "metadata": {
        "id": "NOHJZdCHysRM"
      },
      "execution_count": null,
      "outputs": []
    },
    {
      "cell_type": "code",
      "source": [
        "most_expensive_starship()"
      ],
      "metadata": {
        "colab": {
          "base_uri": "https://localhost:8080/"
        },
        "id": "0U_-xiE__y0U",
        "outputId": "2984d7e5-95e0-4848-88fe-307f3804ebc0"
      },
      "execution_count": null,
      "outputs": [
        {
          "output_type": "execute_result",
          "data": {
            "text/plain": [
              "(1000000000000, ['Death Star'])"
            ]
          },
          "metadata": {},
          "execution_count": 248
        }
      ]
    },
    {
      "cell_type": "code",
      "source": [
        "def max_cargo():\n",
        "  starship_cargos = name_descriptor('cargo_capacity')\n",
        "  \n",
        "  return(find_max(starship_cargos))"
      ],
      "metadata": {
        "id": "e63LdDkA0zXd"
      },
      "execution_count": null,
      "outputs": []
    },
    {
      "cell_type": "code",
      "source": [
        "max_cargo()"
      ],
      "metadata": {
        "colab": {
          "base_uri": "https://localhost:8080/"
        },
        "id": "fii00EyB_1ZU",
        "outputId": "400461ea-8eaa-455e-ee12-dfb7d5b9283e"
      },
      "execution_count": null,
      "outputs": [
        {
          "output_type": "execute_result",
          "data": {
            "text/plain": [
              "(1000000000000, ['Death Star'])"
            ]
          },
          "metadata": {},
          "execution_count": 249
        }
      ]
    },
    {
      "cell_type": "markdown",
      "source": [
        "---"
      ],
      "metadata": {
        "id": "auNn920M6Yc7"
      }
    },
    {
      "cell_type": "markdown",
      "source": [
        "Define a function that returns all the starships that are less than a given price.\n",
        "\n",
        "Make at least two seperate function calls to test the functionality and any edge cases you can think of."
      ],
      "metadata": {
        "id": "ojSP6wRkie0G"
      }
    },
    {
      "cell_type": "code",
      "source": [
        "def cost_less_than(input_dict: dict, price_ceiling: int) -> list[(str, str)]:\n",
        "  return [(name,cost) for name, cost in input_dict.items() if cost < price_ceiling]"
      ],
      "metadata": {
        "id": "CFE8QKRIjftl"
      },
      "execution_count": null,
      "outputs": []
    },
    {
      "cell_type": "code",
      "source": [
        "starship_costs = name_descriptor('cost_in_credits')\n",
        "starship_costs = {k: int_two(v) for k, v in starship_costs.items()}  # converting values to int"
      ],
      "metadata": {
        "id": "PJxtRUIL3rx-"
      },
      "execution_count": null,
      "outputs": []
    },
    {
      "cell_type": "code",
      "source": [
        "# print(cost_less_than(starship_costs, 200000))\n",
        "# print(cost_less_than(starship_costs, 150000))"
      ],
      "metadata": {
        "id": "BTz-b3k66RUb"
      },
      "execution_count": null,
      "outputs": []
    },
    {
      "cell_type": "markdown",
      "source": [
        "---"
      ],
      "metadata": {
        "id": "X_CZY1n-6XDq"
      }
    },
    {
      "cell_type": "markdown",
      "source": [
        "Define and a function to find the starships that have appeared in a given number of films.\n",
        "\n",
        "Make at least two seperate function calls to test the functionality and any edge cases you can think of."
      ],
      "metadata": {
        "id": "GhT4clOUioSJ"
      }
    },
    {
      "cell_type": "code",
      "source": [
        "starship_films = name_descriptor('films')"
      ],
      "metadata": {
        "id": "B6l-bJtFjgev"
      },
      "execution_count": null,
      "outputs": []
    },
    {
      "cell_type": "code",
      "source": [
        "def appeared_in(no_of_films: int):\n",
        "  return [starship for starship, film_list in starship_films.items() if len(film_list) == no_of_films]"
      ],
      "metadata": {
        "id": "BR7eBo3N4rGj"
      },
      "execution_count": null,
      "outputs": []
    },
    {
      "cell_type": "code",
      "source": [
        "# print(appeared_in(3))\n",
        "# print(appeared_in(2))"
      ],
      "metadata": {
        "id": "OoNGSsW66BvS"
      },
      "execution_count": null,
      "outputs": []
    },
    {
      "cell_type": "markdown",
      "source": [
        "Define a function that finds the shortest and longest ship. Return should be the names of the ship in addition to the numeric values. Convert values into feet.\n",
        "\n",
        "Make at least two seperate function calls to test the functionality and any edge cases you can think of."
      ],
      "metadata": {
        "id": "EyrQ1Qa5jUay"
      }
    },
    {
      "cell_type": "code",
      "source": [
        "starship_lengths = name_descriptor('length')"
      ],
      "metadata": {
        "id": "3cbkLHhIj7O2"
      },
      "execution_count": null,
      "outputs": []
    },
    {
      "cell_type": "code",
      "source": [
        "print(find_max(starship_lengths))\n",
        "print(find_min(starship_lengths))"
      ],
      "metadata": {
        "colab": {
          "base_uri": "https://localhost:8080/"
        },
        "id": "jj7pyPaB6pTT",
        "outputId": "432380c0-4ae1-432a-ebb4-caf403ae6e3b"
      },
      "execution_count": null,
      "outputs": [
        {
          "output_type": "stream",
          "name": "stdout",
          "text": [
            "(120000, ['Death Star'])\n",
            "(8, ['Jedi starfighter'])\n"
          ]
        }
      ]
    },
    {
      "cell_type": "markdown",
      "source": [
        "Define and call a function that returns the Starship Class(es) that do not carry any passengers."
      ],
      "metadata": {
        "id": "vQW17Mq8jwzX"
      }
    },
    {
      "cell_type": "code",
      "source": [
        "starship_passengers = name_descriptor('passengers')\n",
        "starship_classes = name_descriptor('starship_class')\n",
        "\n",
        "def zero_passenger_classes():\n",
        "  # all starship names with no passengers\n",
        "  zero_passenger_starships = [starship for starship, passengers in starship_passengers.items() if passengers == '0']\n",
        "\n",
        "  # starship classess with no passengers\n",
        "  return set([starship_classes[starship] for starship in zero_passenger_starships])"
      ],
      "metadata": {
        "id": "BJc3p-XF7huN"
      },
      "execution_count": null,
      "outputs": []
    },
    {
      "cell_type": "code",
      "source": [
        "zero_passenger_classes()"
      ],
      "metadata": {
        "id": "CHCUjCuVjhN0",
        "colab": {
          "base_uri": "https://localhost:8080/"
        },
        "outputId": "4d8b9e70-fdfc-456b-a5b1-c46372fdd3cf"
      },
      "execution_count": null,
      "outputs": [
        {
          "output_type": "execute_result",
          "data": {
            "text/plain": [
              "{'Assault Starfighter', 'Starfighter', 'assault starfighter', 'starfighter'}"
            ]
          },
          "metadata": {},
          "execution_count": 244
        }
      ]
    }
  ]
}